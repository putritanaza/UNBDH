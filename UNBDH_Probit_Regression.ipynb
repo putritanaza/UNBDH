{
  "nbformat": 4,
  "nbformat_minor": 0,
  "metadata": {
    "colab": {
      "provenance": []
    },
    "kernelspec": {
      "name": "python3",
      "display_name": "Python 3"
    },
    "language_info": {
      "name": "python"
    }
  },
  "cells": [
    {
      "cell_type": "code",
      "source": [
        "pip install --upgrade --no-deps statsmodels"
      ],
      "metadata": {
        "colab": {
          "base_uri": "https://localhost:8080/"
        },
        "id": "x4pzYyrm8NqE",
        "outputId": "7580a11d-9234-4d31-e450-d13e9db651b0"
      },
      "execution_count": null,
      "outputs": [
        {
          "output_type": "stream",
          "name": "stdout",
          "text": [
            "Looking in indexes: https://pypi.org/simple, https://us-python.pkg.dev/colab-wheels/public/simple/\n",
            "Requirement already satisfied: statsmodels in /usr/local/lib/python3.7/dist-packages (0.12.2)\n",
            "Collecting statsmodels\n",
            "  Downloading statsmodels-0.13.5-cp37-cp37m-manylinux_2_17_x86_64.manylinux2014_x86_64.whl (9.9 MB)\n",
            "\u001b[K     |████████████████████████████████| 9.9 MB 17.5 MB/s \n",
            "\u001b[?25hInstalling collected packages: statsmodels\n",
            "  Attempting uninstall: statsmodels\n",
            "    Found existing installation: statsmodels 0.12.2\n",
            "    Uninstalling statsmodels-0.12.2:\n",
            "      Successfully uninstalled statsmodels-0.12.2\n",
            "Successfully installed statsmodels-0.13.5\n"
          ]
        }
      ]
    },
    {
      "cell_type": "code",
      "source": [
        "import os,sys\n",
        "from scipy import stats\n",
        "import numpy as np"
      ],
      "metadata": {
        "id": "7ZlTX3Wx9Bmm"
      },
      "execution_count": null,
      "outputs": []
    },
    {
      "cell_type": "code",
      "source": [
        "import statsmodels.api as sm\n",
        "from statsmodels.api import add_constant\n",
        "import pandas as pd\n",
        "import numpy as np\n",
        "from statsmodels.discrete.discrete_model import Probit\n",
        "data = pd.read_csv('/content/Stunt (1).csv')"
      ],
      "metadata": {
        "id": "lgDgHZ85IFUp"
      },
      "execution_count": null,
      "outputs": []
    },
    {
      "cell_type": "code",
      "source": [
        "print(data.head())"
      ],
      "metadata": {
        "colab": {
          "base_uri": "https://localhost:8080/"
        },
        "id": "E5l7mVYKI_lv",
        "outputId": "061efea8-4d1c-4772-b40b-1fb566303327"
      },
      "execution_count": null,
      "outputs": [
        {
          "output_type": "stream",
          "name": "stdout",
          "text": [
            "   Stunting   US Population  Harga Telur  Kualitas Udara Bersih  \\\n",
            "0         1         5601.44         1.20                      0   \n",
            "1         0          176.52         2.30                      1   \n",
            "2         0         5024.62         1.33                      1   \n",
            "3         0         3747.74         1.41                      1   \n",
            "4         0          213.83         2.17                      0   \n",
            "\n",
            "   Kualitas sistem kesehatan  World Bank Income  \n",
            "0                      26.98                  2  \n",
            "1                      49.62                  4  \n",
            "2                      53.64                  3  \n",
            "3                      68.95                  4  \n",
            "4                      54.57                  4  \n"
          ]
        }
      ]
    },
    {
      "cell_type": "code",
      "source": [],
      "metadata": {
        "id": "6qhmL4BbecNO"
      },
      "execution_count": null,
      "outputs": []
    },
    {
      "cell_type": "code",
      "source": [
        "print(data.describe())"
      ],
      "metadata": {
        "colab": {
          "base_uri": "https://localhost:8080/"
        },
        "id": "1rTq6k5jJGa0",
        "outputId": "4ced5b47-6ac1-44e9-b5db-675a74177dec"
      },
      "execution_count": null,
      "outputs": [
        {
          "output_type": "stream",
          "name": "stdout",
          "text": [
            "         Stunting   US Population  Harga Telur  Kualitas Udara Bersih  \\\n",
            "count  157.000000      157.000000   157.000000             157.000000   \n",
            "mean     0.439490     4189.648981     3.331465               0.777070   \n",
            "std      0.497913    12261.840905    11.553535               0.417544   \n",
            "min      0.000000        7.820000     0.100000               0.000000   \n",
            "25%      0.000000      279.490000     1.410000               1.000000   \n",
            "50%      0.000000     1172.730000     1.950000               1.000000   \n",
            "75%      1.000000     3603.890000     2.600000               1.000000   \n",
            "max      1.000000   116172.500000   140.610000               1.000000   \n",
            "\n",
            "       Kualitas sistem kesehatan  World Bank Income  \n",
            "count                 157.000000         157.000000  \n",
            "mean                   55.044586           2.802548  \n",
            "std                    13.190380           1.070822  \n",
            "min                     2.780000           1.000000  \n",
            "25%                    47.220000           2.000000  \n",
            "50%                    55.950000           3.000000  \n",
            "75%                    64.430000           4.000000  \n",
            "max                    88.890000           4.000000  \n"
          ]
        }
      ]
    },
    {
      "cell_type": "code",
      "source": [
        "data = data.dropna()"
      ],
      "metadata": {
        "id": "xTibhOamg7ao"
      },
      "execution_count": null,
      "outputs": []
    },
    {
      "cell_type": "code",
      "source": [
        "Y = data[\"Stunting\"]\n",
        "X = data.drop([\"Stunting\"], 1)\n",
        "X = sm.add_constant(X)\n",
        "model = Probit(Y, X.astype(float))\n",
        "probit_model = model.fit()\n",
        "print(probit_model.summary())"
      ],
      "metadata": {
        "colab": {
          "base_uri": "https://localhost:8080/"
        },
        "id": "omz7TjStJJX1",
        "outputId": "2396d717-272d-4539-896c-aab088d56681"
      },
      "execution_count": null,
      "outputs": [
        {
          "output_type": "stream",
          "name": "stdout",
          "text": [
            "Optimization terminated successfully.\n",
            "         Current function value: 0.585327\n",
            "         Iterations 7\n",
            "                          Probit Regression Results                           \n",
            "==============================================================================\n",
            "Dep. Variable:               Stunting   No. Observations:                  157\n",
            "Model:                         Probit   Df Residuals:                      151\n",
            "Method:                           MLE   Df Model:                            5\n",
            "Date:                Thu, 10 Nov 2022   Pseudo R-squ.:                  0.1465\n",
            "Time:                        13:38:00   Log-Likelihood:                -91.896\n",
            "converged:                       True   LL-Null:                       -107.67\n",
            "Covariance Type:            nonrobust   LLR p-value:                 7.291e-06\n",
            "=============================================================================================\n",
            "                                coef    std err          z      P>|z|      [0.025      0.975]\n",
            "---------------------------------------------------------------------------------------------\n",
            "const                         2.0357      0.694      2.934      0.003       0.676       3.396\n",
            " US Population              2.86e-05   1.12e-05      2.543      0.011    6.55e-06    5.06e-05\n",
            "Harga Telur                   0.0114      0.021      0.535      0.593      -0.030       0.053\n",
            "Kualitas Udara Bersih         0.6824      0.289      2.361      0.018       0.116       1.249\n",
            "Kualitas sistem kesehatan    -0.0417      0.010     -4.264      0.000      -0.061      -0.023\n",
            "World Bank Income            -0.2052      0.105     -1.959      0.050      -0.411       0.000\n",
            "=============================================================================================\n"
          ]
        },
        {
          "output_type": "stream",
          "name": "stderr",
          "text": [
            "/usr/local/lib/python3.7/dist-packages/ipykernel_launcher.py:2: FutureWarning: In a future version of pandas all arguments of DataFrame.drop except for the argument 'labels' will be keyword-only\n",
            "  \n"
          ]
        }
      ]
    },
    {
      "cell_type": "code",
      "source": [
        "print(pd.crosstab(data[\"Stunting\"], data[\"Harga Telur\"], margins = True))"
      ],
      "metadata": {
        "colab": {
          "base_uri": "https://localhost:8080/"
        },
        "id": "d_Ew1PclJSdW",
        "outputId": "774ca260-51cc-4a07-9e8f-854300345289"
      },
      "execution_count": null,
      "outputs": [
        {
          "output_type": "stream",
          "name": "stdout",
          "text": [
            "Harga Telur  0.1  0.11  0.18  0.54  0.6  0.92  0.97  0.98  0.99  1.0  ...  \\\n",
            "Stunting                                                              ...   \n",
            "0              1     0     0     1    1     1     0     1     1    5  ...   \n",
            "1              0     1     1     0    0     1     1     0     0    5  ...   \n",
            "All            1     1     1     1    1     2     1     1     1   10  ...   \n",
            "\n",
            "Harga Telur  4.39  4.61  5.14  5.58  5.91  9.45  28.4  33.65  140.61  All  \n",
            "Stunting                                                                   \n",
            "0               0     1     1     0     0     1     0      0       0   88  \n",
            "1               1     0     0     1     1     0     1      1       1   69  \n",
            "All             1     1     1     1     1     1     1      1       1  157  \n",
            "\n",
            "[3 rows x 106 columns]\n"
          ]
        }
      ]
    },
    {
      "cell_type": "code",
      "source": [
        "hc_data0 = np.column_stack((\n",
        "    1,\n",
        "    np.mean(data[\" US Population\"]),\n",
        "    np.mean(data[\"Kualitas Udara Bersih\"]),\n",
        "    0,\n",
        "    np.mean(data[\"Kualitas sistem kesehatan\"]),\n",
        "    np.mean(data[\"World Bank Income\"])\n",
        "    ))\n",
        "\n",
        "hc_data1 = np.column_stack((\n",
        "    1,\n",
        "    np.mean(data[\" US Population\"]),\n",
        "    np.mean(data[\"Kualitas Udara Bersih\"]),\n",
        "    1,\n",
        "    np.mean(data[\"Kualitas sistem kesehatan\"]),\n",
        "    np.mean(data[\"World Bank Income\"])\n",
        "    ))"
      ],
      "metadata": {
        "id": "ONJkOqDEJTjr"
      },
      "execution_count": null,
      "outputs": []
    },
    {
      "cell_type": "code",
      "source": [
        "print(probit_model.predict(hc_data0))\n",
        "print(probit_model.predict(hc_data1))"
      ],
      "metadata": {
        "colab": {
          "base_uri": "https://localhost:8080/"
        },
        "id": "IlT3iG9DJZwr",
        "outputId": "4fdd6c2e-b5d2-4227-c768-c2e34df3f144"
      },
      "execution_count": null,
      "outputs": [
        {
          "output_type": "stream",
          "name": "stdout",
          "text": [
            "[0.24047222]\n",
            "[0.49107895]\n"
          ]
        }
      ]
    },
    {
      "cell_type": "code",
      "source": [
        "print(pd.crosstab(data[\"Stunting\"], data[\"Kualitas Udara Bersih\"], margins = True))"
      ],
      "metadata": {
        "colab": {
          "base_uri": "https://localhost:8080/"
        },
        "id": "ZwzWgk9WJc2d",
        "outputId": "01019f29-eb10-4d53-def2-2722d6d75274"
      },
      "execution_count": null,
      "outputs": [
        {
          "output_type": "stream",
          "name": "stdout",
          "text": [
            "Kualitas Udara Bersih   0    1  All\n",
            "Stunting                           \n",
            "0                      23   65   88\n",
            "1                      12   57   69\n",
            "All                    35  122  157\n"
          ]
        }
      ]
    },
    {
      "cell_type": "code",
      "source": [
        "wc_data0 = np.column_stack((\n",
        "    1,\n",
        "    np.mean(data[\" US Population\"]),\n",
        "    np.mean(data[\"Harga Telur\"]),\n",
        "    0,\n",
        "    np.mean(data[\"Kualitas sistem kesehatan\"]),\n",
        "    np.mean(data[\"World Bank Income\"]),\n",
        "    ))\n",
        "wc_data1 = np.column_stack((\n",
        "    1,\n",
        "    np.mean(data[\" US Population\"]),\n",
        "    np.mean(data[\"Harga Telur\"]),\n",
        "    1,\n",
        "    np.mean(data[\"Kualitas sistem kesehatan\"]),\n",
        "    np.mean(data[\"World Bank Income\"]),\n",
        "    ))"
      ],
      "metadata": {
        "id": "hKjE3WvVJslE"
      },
      "execution_count": null,
      "outputs": []
    },
    {
      "cell_type": "code",
      "source": [
        "print(probit_model.predict(wc_data0))\n",
        "print(probit_model.predict(wc_data1))"
      ],
      "metadata": {
        "colab": {
          "base_uri": "https://localhost:8080/"
        },
        "id": "4gij9HV-JvYB",
        "outputId": "2b26c30f-757e-4472-f027-e7e76b693cc5"
      },
      "execution_count": null,
      "outputs": [
        {
          "output_type": "stream",
          "name": "stdout",
          "text": [
            "[0.24961642]\n",
            "[0.50268224]\n"
          ]
        }
      ]
    },
    {
      "cell_type": "code",
      "source": [
        "wc_data0 = np.column_stack((\n",
        "    np.repeat(1,4),\n",
        "    np.repeat(np.mean(data[\" US Population\"]),4),\n",
        "    np.repeat(np.mean(data[\"Harga Telur\"]), 4),\n",
        "    (30,40,50,60),\n",
        "    np.repeat(0,4),\n",
        "    np.repeat(np.mean(data[\"Kualitas sistem kesehatan\"]),4),\n",
        "    np.repeat(np.mean(data[\"World Bank Income\"]),4),\n",
        "    ))\n",
        "wc_data1 = np.column_stack((\n",
        "    np.repeat(1,4),\n",
        "    np.repeat(np.mean(data[\" US Population\"]),4),\n",
        "    np.repeat(np.mean(data[\"Harga Telur\"]), 4),\n",
        "    (30,40,50,60),\n",
        "    np.repeat(1,4),\n",
        "    np.repeat(np.mean(data[\"Kualitas sistem kesehatan\"]),4),\n",
        "    np.repeat(np.mean(data[\"World Bank Income\"]),4),\n",
        "))"
      ],
      "metadata": {
        "id": "WtJhe4xXJxjO"
      },
      "execution_count": null,
      "outputs": []
    },
    {
      "cell_type": "code",
      "source": [
        "print(probit_model.predict(wc_data0))\n",
        "print(probit_model.predict(wc_data1))"
      ],
      "metadata": {
        "colab": {
          "base_uri": "https://localhost:8080/",
          "height": 363
        },
        "id": "LjsuggaUJ0VA",
        "outputId": "5661adcd-f760-4ba8-dace-f92f48185997"
      },
      "execution_count": null,
      "outputs": [
        {
          "output_type": "error",
          "ename": "ValueError",
          "evalue": "ignored",
          "traceback": [
            "\u001b[0;31m---------------------------------------------------------------------------\u001b[0m",
            "\u001b[0;31mValueError\u001b[0m                                Traceback (most recent call last)",
            "\u001b[0;32m<ipython-input-17-4842ce1222c8>\u001b[0m in \u001b[0;36m<module>\u001b[0;34m\u001b[0m\n\u001b[0;32m----> 1\u001b[0;31m \u001b[0mprint\u001b[0m\u001b[0;34m(\u001b[0m\u001b[0mprobit_model\u001b[0m\u001b[0;34m.\u001b[0m\u001b[0mpredict\u001b[0m\u001b[0;34m(\u001b[0m\u001b[0mwc_data0\u001b[0m\u001b[0;34m)\u001b[0m\u001b[0;34m)\u001b[0m\u001b[0;34m\u001b[0m\u001b[0;34m\u001b[0m\u001b[0m\n\u001b[0m\u001b[1;32m      2\u001b[0m \u001b[0mprint\u001b[0m\u001b[0;34m(\u001b[0m\u001b[0mprobit_model\u001b[0m\u001b[0;34m.\u001b[0m\u001b[0mpredict\u001b[0m\u001b[0;34m(\u001b[0m\u001b[0mwc_data1\u001b[0m\u001b[0;34m)\u001b[0m\u001b[0;34m)\u001b[0m\u001b[0;34m\u001b[0m\u001b[0;34m\u001b[0m\u001b[0m\n",
            "\u001b[0;32m/usr/local/lib/python3.7/dist-packages/statsmodels/base/model.py\u001b[0m in \u001b[0;36mpredict\u001b[0;34m(self, exog, transform, *args, **kwargs)\u001b[0m\n\u001b[1;32m   1158\u001b[0m \u001b[0;34m\u001b[0m\u001b[0m\n\u001b[1;32m   1159\u001b[0m         predict_results = self.model.predict(self.params, exog, *args,\n\u001b[0;32m-> 1160\u001b[0;31m                                              **kwargs)\n\u001b[0m\u001b[1;32m   1161\u001b[0m \u001b[0;34m\u001b[0m\u001b[0m\n\u001b[1;32m   1162\u001b[0m         if exog_index is not None and not hasattr(predict_results,\n",
            "\u001b[0;32m/usr/local/lib/python3.7/dist-packages/statsmodels/discrete/discrete_model.py\u001b[0m in \u001b[0;36mpredict\u001b[0;34m(self, params, exog, linear)\u001b[0m\n\u001b[1;32m    492\u001b[0m             \u001b[0mexog\u001b[0m \u001b[0;34m=\u001b[0m \u001b[0mself\u001b[0m\u001b[0;34m.\u001b[0m\u001b[0mexog\u001b[0m\u001b[0;34m\u001b[0m\u001b[0;34m\u001b[0m\u001b[0m\n\u001b[1;32m    493\u001b[0m         \u001b[0;32mif\u001b[0m \u001b[0;32mnot\u001b[0m \u001b[0mlinear\u001b[0m\u001b[0;34m:\u001b[0m\u001b[0;34m\u001b[0m\u001b[0;34m\u001b[0m\u001b[0m\n\u001b[0;32m--> 494\u001b[0;31m             \u001b[0;32mreturn\u001b[0m \u001b[0mself\u001b[0m\u001b[0;34m.\u001b[0m\u001b[0mcdf\u001b[0m\u001b[0;34m(\u001b[0m\u001b[0mnp\u001b[0m\u001b[0;34m.\u001b[0m\u001b[0mdot\u001b[0m\u001b[0;34m(\u001b[0m\u001b[0mexog\u001b[0m\u001b[0;34m,\u001b[0m \u001b[0mparams\u001b[0m\u001b[0;34m)\u001b[0m\u001b[0;34m)\u001b[0m\u001b[0;34m\u001b[0m\u001b[0;34m\u001b[0m\u001b[0m\n\u001b[0m\u001b[1;32m    495\u001b[0m         \u001b[0;32melse\u001b[0m\u001b[0;34m:\u001b[0m\u001b[0;34m\u001b[0m\u001b[0;34m\u001b[0m\u001b[0m\n\u001b[1;32m    496\u001b[0m             \u001b[0;32mreturn\u001b[0m \u001b[0mnp\u001b[0m\u001b[0;34m.\u001b[0m\u001b[0mdot\u001b[0m\u001b[0;34m(\u001b[0m\u001b[0mexog\u001b[0m\u001b[0;34m,\u001b[0m \u001b[0mparams\u001b[0m\u001b[0;34m)\u001b[0m\u001b[0;34m\u001b[0m\u001b[0;34m\u001b[0m\u001b[0m\n",
            "\u001b[0;32m<__array_function__ internals>\u001b[0m in \u001b[0;36mdot\u001b[0;34m(*args, **kwargs)\u001b[0m\n",
            "\u001b[0;31mValueError\u001b[0m: shapes (4,7) and (6,) not aligned: 7 (dim 1) != 6 (dim 0)"
          ]
        }
      ]
    },
    {
      "cell_type": "code",
      "source": [
        "print(pd.crosstab(data[\"Stunting\"], data[\"Kualitas sistem kesehatan\"], margins = True))"
      ],
      "metadata": {
        "colab": {
          "base_uri": "https://localhost:8080/"
        },
        "id": "WLqLrrfTJ4sz",
        "outputId": "e865bfe5-8a4a-4f8b-81f3-290ec8ccceef"
      },
      "execution_count": null,
      "outputs": [
        {
          "output_type": "stream",
          "name": "stdout",
          "text": [
            "Kualitas sistem kesehatan  2.78  18.52  23.15  26.98  28.27  29.77  30.56  \\\n",
            "Stunting                                                                    \n",
            "0                             0      0      0      0      0      0      0   \n",
            "1                             1      1      1      1      1      1      2   \n",
            "All                           1      1      1      1      1      1      2   \n",
            "\n",
            "Kualitas sistem kesehatan  32.64  33.89  35.19  ...  75.16  75.46  76.2  \\\n",
            "Stunting                                        ...                       \n",
            "0                              0      1      1  ...      1      1     1   \n",
            "1                              1      0      0  ...      0      0     0   \n",
            "All                            1      1      1  ...      1      1     1   \n",
            "\n",
            "Kualitas sistem kesehatan  76.39  76.87  77.79  77.87  80.27  88.89  All  \n",
            "Stunting                                                                  \n",
            "0                              0      0      1      1      1      1   88  \n",
            "1                              1      1      0      0      0      0   69  \n",
            "All                            1      1      1      1      1      1  157  \n",
            "\n",
            "[3 rows x 152 columns]\n"
          ]
        }
      ]
    },
    {
      "cell_type": "code",
      "source": [
        "k5_data = np.column_stack((\n",
        "    np.repeat(1,4),\n",
        "    (0,1,2,3),\n",
        "    np.repeat(np.mean(data[\" US Population\"]), 4),\n",
        "    np.repeat(np.mean(data[\"Harga Telur\"]),4),\n",
        "    np.repeat(np.mean(data[\"Kualitas sistem kesehatan\"]),4),\n",
        "    np.repeat(np.mean(data[\"World Bank Income\"]),4),\n",
        "    ))\n",
        "    \n",
        "print(probit_model.predict(k5_data))"
      ],
      "metadata": {
        "colab": {
          "base_uri": "https://localhost:8080/"
        },
        "id": "vTZtDmfKJ58P",
        "outputId": "da9ae754-02af-46a7-ca70-5e7e92015be0"
      },
      "execution_count": null,
      "outputs": [
        {
          "output_type": "stream",
          "name": "stdout",
          "text": [
            "[1. 1. 1. 1.]\n"
          ]
        }
      ]
    },
    {
      "cell_type": "code",
      "source": [
        "mfx = probit_model.get_margeff()\n",
        "print(mfx.summary())"
      ],
      "metadata": {
        "colab": {
          "base_uri": "https://localhost:8080/"
        },
        "id": "_Hz1aLOLJ9Kf",
        "outputId": "e31f7a4f-c0ed-4f5a-f586-0fc9cadd1b4a"
      },
      "execution_count": null,
      "outputs": [
        {
          "output_type": "stream",
          "name": "stdout",
          "text": [
            "       Probit Marginal Effects       \n",
            "=====================================\n",
            "Dep. Variable:               Stunting\n",
            "Method:                          dydx\n",
            "At:                           overall\n",
            "=============================================================================================\n",
            "                               dy/dx    std err          z      P>|z|      [0.025      0.975]\n",
            "---------------------------------------------------------------------------------------------\n",
            " US Population             9.489e-06   3.52e-06      2.698      0.007    2.59e-06    1.64e-05\n",
            "Harga Telur                   0.0038      0.007      0.536      0.592      -0.010       0.018\n",
            "Kualitas Udara Bersih         0.2264      0.090      2.508      0.012       0.049       0.403\n",
            "Kualitas sistem kesehatan    -0.0138      0.003     -5.274      0.000      -0.019      -0.009\n",
            "World Bank Income            -0.0681      0.034     -2.032      0.042      -0.134      -0.002\n",
            "=============================================================================================\n"
          ]
        }
      ]
    }
  ]
}